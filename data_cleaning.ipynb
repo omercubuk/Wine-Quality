{
  "nbformat": 4,
  "nbformat_minor": 0,
  "metadata": {
    "colab": {
      "provenance": []
    },
    "kernelspec": {
      "name": "python3",
      "display_name": "Python 3"
    },
    "language_info": {
      "name": "python"
    }
  },
  "cells": [
    {
      "cell_type": "markdown",
      "source": [
        "**Ayşe Büşra Aktaş 2561017-\n",
        "Beyza Karabulut 2561314-\n",
        "Emre Arslanali 2501930-\n",
        "Melisa Çepni 2288132-\n",
        "Ömer Çubuk 2561165**"
      ],
      "metadata": {
        "id": "cImmiEL-i0So"
      }
    },
    {
      "cell_type": "code",
      "execution_count": null,
      "metadata": {
        "id": "Hnrlhy-g07_q"
      },
      "outputs": [],
      "source": [
        "import pandas as pd\n",
        "import numpy as np\n",
        "import matplotlib.pyplot as plt\n",
        "\n",
        "# All necessary pyhton packages for data cleaning are imported"
      ]
    },
    {
      "cell_type": "code",
      "source": [
        "wine = pd.read_excel('wine_quality.xlsx')\n",
        "\n",
        "# To read the excel type data set"
      ],
      "metadata": {
        "id": "gI86HrA31Dha"
      },
      "execution_count": null,
      "outputs": []
    },
    {
      "cell_type": "code",
      "source": [
        "wine.describe().transpose()\n",
        "\n",
        "# Describe function to see descriptive statistics of data, in order to see any irrelevant data values / to see our statistic table better, change the columns order, use transpose function.\n"
      ],
      "metadata": {
        "colab": {
          "base_uri": "https://localhost:8080/",
          "height": 237
        },
        "id": "l4D36PGE1FZc",
        "outputId": "789b581d-678d-4263-8f42-2f89e4075838"
      },
      "execution_count": null,
      "outputs": [
        {
          "output_type": "execute_result",
          "data": {
            "text/plain": [
              "                      count       mean        std    min      25%     50%  \\\n",
              "quality_score          93.0   8.396129   3.081894   6.98   7.3200   7.650   \n",
              "sugar                  90.0   1.651556   0.424693   0.73   1.4000   1.555   \n",
              "total_sulfur_dioxide   87.0  86.051724   8.747769  66.50  80.1000  85.000   \n",
              "density                94.0   0.833723   0.266849   0.27   0.6225   0.860   \n",
              "ph                     91.0   9.797363  23.837681   2.52   2.9950   3.510   \n",
              "alcohol                92.0   5.057391   0.590782   4.03   4.5550   5.075   \n",
              "\n",
              "                          75%     max  \n",
              "quality_score          7.9500   20.00  \n",
              "sugar                  1.8875    2.94  \n",
              "total_sulfur_dioxide  90.9500  112.20  \n",
              "density                1.0450    1.32  \n",
              "ph                     4.1200   99.00  \n",
              "alcohol                5.5750    5.99  "
            ],
            "text/html": [
              "\n",
              "  <div id=\"df-3dc3fd08-d972-4114-812b-4e6689025bb8\">\n",
              "    <div class=\"colab-df-container\">\n",
              "      <div>\n",
              "<style scoped>\n",
              "    .dataframe tbody tr th:only-of-type {\n",
              "        vertical-align: middle;\n",
              "    }\n",
              "\n",
              "    .dataframe tbody tr th {\n",
              "        vertical-align: top;\n",
              "    }\n",
              "\n",
              "    .dataframe thead th {\n",
              "        text-align: right;\n",
              "    }\n",
              "</style>\n",
              "<table border=\"1\" class=\"dataframe\">\n",
              "  <thead>\n",
              "    <tr style=\"text-align: right;\">\n",
              "      <th></th>\n",
              "      <th>count</th>\n",
              "      <th>mean</th>\n",
              "      <th>std</th>\n",
              "      <th>min</th>\n",
              "      <th>25%</th>\n",
              "      <th>50%</th>\n",
              "      <th>75%</th>\n",
              "      <th>max</th>\n",
              "    </tr>\n",
              "  </thead>\n",
              "  <tbody>\n",
              "    <tr>\n",
              "      <th>quality_score</th>\n",
              "      <td>93.0</td>\n",
              "      <td>8.396129</td>\n",
              "      <td>3.081894</td>\n",
              "      <td>6.98</td>\n",
              "      <td>7.3200</td>\n",
              "      <td>7.650</td>\n",
              "      <td>7.9500</td>\n",
              "      <td>20.00</td>\n",
              "    </tr>\n",
              "    <tr>\n",
              "      <th>sugar</th>\n",
              "      <td>90.0</td>\n",
              "      <td>1.651556</td>\n",
              "      <td>0.424693</td>\n",
              "      <td>0.73</td>\n",
              "      <td>1.4000</td>\n",
              "      <td>1.555</td>\n",
              "      <td>1.8875</td>\n",
              "      <td>2.94</td>\n",
              "    </tr>\n",
              "    <tr>\n",
              "      <th>total_sulfur_dioxide</th>\n",
              "      <td>87.0</td>\n",
              "      <td>86.051724</td>\n",
              "      <td>8.747769</td>\n",
              "      <td>66.50</td>\n",
              "      <td>80.1000</td>\n",
              "      <td>85.000</td>\n",
              "      <td>90.9500</td>\n",
              "      <td>112.20</td>\n",
              "    </tr>\n",
              "    <tr>\n",
              "      <th>density</th>\n",
              "      <td>94.0</td>\n",
              "      <td>0.833723</td>\n",
              "      <td>0.266849</td>\n",
              "      <td>0.27</td>\n",
              "      <td>0.6225</td>\n",
              "      <td>0.860</td>\n",
              "      <td>1.0450</td>\n",
              "      <td>1.32</td>\n",
              "    </tr>\n",
              "    <tr>\n",
              "      <th>ph</th>\n",
              "      <td>91.0</td>\n",
              "      <td>9.797363</td>\n",
              "      <td>23.837681</td>\n",
              "      <td>2.52</td>\n",
              "      <td>2.9950</td>\n",
              "      <td>3.510</td>\n",
              "      <td>4.1200</td>\n",
              "      <td>99.00</td>\n",
              "    </tr>\n",
              "    <tr>\n",
              "      <th>alcohol</th>\n",
              "      <td>92.0</td>\n",
              "      <td>5.057391</td>\n",
              "      <td>0.590782</td>\n",
              "      <td>4.03</td>\n",
              "      <td>4.5550</td>\n",
              "      <td>5.075</td>\n",
              "      <td>5.5750</td>\n",
              "      <td>5.99</td>\n",
              "    </tr>\n",
              "  </tbody>\n",
              "</table>\n",
              "</div>\n",
              "      <button class=\"colab-df-convert\" onclick=\"convertToInteractive('df-3dc3fd08-d972-4114-812b-4e6689025bb8')\"\n",
              "              title=\"Convert this dataframe to an interactive table.\"\n",
              "              style=\"display:none;\">\n",
              "        \n",
              "  <svg xmlns=\"http://www.w3.org/2000/svg\" height=\"24px\"viewBox=\"0 0 24 24\"\n",
              "       width=\"24px\">\n",
              "    <path d=\"M0 0h24v24H0V0z\" fill=\"none\"/>\n",
              "    <path d=\"M18.56 5.44l.94 2.06.94-2.06 2.06-.94-2.06-.94-.94-2.06-.94 2.06-2.06.94zm-11 1L8.5 8.5l.94-2.06 2.06-.94-2.06-.94L8.5 2.5l-.94 2.06-2.06.94zm10 10l.94 2.06.94-2.06 2.06-.94-2.06-.94-.94-2.06-.94 2.06-2.06.94z\"/><path d=\"M17.41 7.96l-1.37-1.37c-.4-.4-.92-.59-1.43-.59-.52 0-1.04.2-1.43.59L10.3 9.45l-7.72 7.72c-.78.78-.78 2.05 0 2.83L4 21.41c.39.39.9.59 1.41.59.51 0 1.02-.2 1.41-.59l7.78-7.78 2.81-2.81c.8-.78.8-2.07 0-2.86zM5.41 20L4 18.59l7.72-7.72 1.47 1.35L5.41 20z\"/>\n",
              "  </svg>\n",
              "      </button>\n",
              "      \n",
              "  <style>\n",
              "    .colab-df-container {\n",
              "      display:flex;\n",
              "      flex-wrap:wrap;\n",
              "      gap: 12px;\n",
              "    }\n",
              "\n",
              "    .colab-df-convert {\n",
              "      background-color: #E8F0FE;\n",
              "      border: none;\n",
              "      border-radius: 50%;\n",
              "      cursor: pointer;\n",
              "      display: none;\n",
              "      fill: #1967D2;\n",
              "      height: 32px;\n",
              "      padding: 0 0 0 0;\n",
              "      width: 32px;\n",
              "    }\n",
              "\n",
              "    .colab-df-convert:hover {\n",
              "      background-color: #E2EBFA;\n",
              "      box-shadow: 0px 1px 2px rgba(60, 64, 67, 0.3), 0px 1px 3px 1px rgba(60, 64, 67, 0.15);\n",
              "      fill: #174EA6;\n",
              "    }\n",
              "\n",
              "    [theme=dark] .colab-df-convert {\n",
              "      background-color: #3B4455;\n",
              "      fill: #D2E3FC;\n",
              "    }\n",
              "\n",
              "    [theme=dark] .colab-df-convert:hover {\n",
              "      background-color: #434B5C;\n",
              "      box-shadow: 0px 1px 3px 1px rgba(0, 0, 0, 0.15);\n",
              "      filter: drop-shadow(0px 1px 2px rgba(0, 0, 0, 0.3));\n",
              "      fill: #FFFFFF;\n",
              "    }\n",
              "  </style>\n",
              "\n",
              "      <script>\n",
              "        const buttonEl =\n",
              "          document.querySelector('#df-3dc3fd08-d972-4114-812b-4e6689025bb8 button.colab-df-convert');\n",
              "        buttonEl.style.display =\n",
              "          google.colab.kernel.accessAllowed ? 'block' : 'none';\n",
              "\n",
              "        async function convertToInteractive(key) {\n",
              "          const element = document.querySelector('#df-3dc3fd08-d972-4114-812b-4e6689025bb8');\n",
              "          const dataTable =\n",
              "            await google.colab.kernel.invokeFunction('convertToInteractive',\n",
              "                                                     [key], {});\n",
              "          if (!dataTable) return;\n",
              "\n",
              "          const docLinkHtml = 'Like what you see? Visit the ' +\n",
              "            '<a target=\"_blank\" href=https://colab.research.google.com/notebooks/data_table.ipynb>data table notebook</a>'\n",
              "            + ' to learn more about interactive tables.';\n",
              "          element.innerHTML = '';\n",
              "          dataTable['output_type'] = 'display_data';\n",
              "          await google.colab.output.renderOutput(dataTable, element);\n",
              "          const docLink = document.createElement('div');\n",
              "          docLink.innerHTML = docLinkHtml;\n",
              "          element.appendChild(docLink);\n",
              "        }\n",
              "      </script>\n",
              "    </div>\n",
              "  </div>\n",
              "  "
            ]
          },
          "metadata": {},
          "execution_count": 5
        }
      ]
    },
    {
      "cell_type": "code",
      "source": [
        "wine['ph'].loc[wine['ph']==99] = 0\n",
        "wine['ph'].value_counts()\n",
        "\n",
        "# To detect an irrelevant data value in pH bar, and change it to zero"
      ],
      "metadata": {
        "colab": {
          "base_uri": "https://localhost:8080/"
        },
        "id": "Buy9gOlI1Hhx",
        "outputId": "933129cd-6665-4e7f-cda2-5eab4e2eccd5"
      },
      "execution_count": null,
      "outputs": [
        {
          "output_type": "stream",
          "name": "stderr",
          "text": [
            "/usr/local/lib/python3.8/dist-packages/pandas/core/indexing.py:1732: SettingWithCopyWarning: \n",
            "A value is trying to be set on a copy of a slice from a DataFrame\n",
            "\n",
            "See the caveats in the documentation: https://pandas.pydata.org/pandas-docs/stable/user_guide/indexing.html#returning-a-view-versus-a-copy\n",
            "  self._setitem_single_block(indexer, value, name)\n"
          ]
        },
        {
          "output_type": "execute_result",
          "data": {
            "text/plain": [
              "0.00    6\n",
              "2.82    3\n",
              "4.12    3\n",
              "4.35    3\n",
              "3.84    2\n",
              "       ..\n",
              "2.52    1\n",
              "3.79    1\n",
              "3.77    1\n",
              "2.94    1\n",
              "3.33    1\n",
              "Name: ph, Length: 69, dtype: int64"
            ]
          },
          "metadata": {},
          "execution_count": 6
        }
      ]
    },
    {
      "cell_type": "code",
      "source": [
        "wine.describe().transpose()\n",
        "\n",
        "# Describe the data again to check the process is correct or not"
      ],
      "metadata": {
        "colab": {
          "base_uri": "https://localhost:8080/",
          "height": 237
        },
        "id": "x_1_jHpK1JmH",
        "outputId": "f2428270-325b-4055-c545-422ff835936f"
      },
      "execution_count": null,
      "outputs": [
        {
          "output_type": "execute_result",
          "data": {
            "text/plain": [
              "                      count       mean       std    min      25%     50%  \\\n",
              "quality_score          93.0   8.396129  3.081894   6.98   7.3200   7.650   \n",
              "sugar                  90.0   1.651556  0.424693   0.73   1.4000   1.555   \n",
              "total_sulfur_dioxide   87.0  86.051724  8.747769  66.50  80.1000  85.000   \n",
              "density                94.0   0.833723  0.266849   0.27   0.6225   0.860   \n",
              "ph                     91.0   3.269890  1.038702   0.00   2.9150   3.440   \n",
              "alcohol                92.0   5.057391  0.590782   4.03   4.5550   5.075   \n",
              "\n",
              "                          75%     max  \n",
              "quality_score          7.9500   20.00  \n",
              "sugar                  1.8875    2.94  \n",
              "total_sulfur_dioxide  90.9500  112.20  \n",
              "density                1.0450    1.32  \n",
              "ph                     4.0050    4.48  \n",
              "alcohol                5.5750    5.99  "
            ],
            "text/html": [
              "\n",
              "  <div id=\"df-42d919fb-5c32-42f0-92b5-56414596c9b6\">\n",
              "    <div class=\"colab-df-container\">\n",
              "      <div>\n",
              "<style scoped>\n",
              "    .dataframe tbody tr th:only-of-type {\n",
              "        vertical-align: middle;\n",
              "    }\n",
              "\n",
              "    .dataframe tbody tr th {\n",
              "        vertical-align: top;\n",
              "    }\n",
              "\n",
              "    .dataframe thead th {\n",
              "        text-align: right;\n",
              "    }\n",
              "</style>\n",
              "<table border=\"1\" class=\"dataframe\">\n",
              "  <thead>\n",
              "    <tr style=\"text-align: right;\">\n",
              "      <th></th>\n",
              "      <th>count</th>\n",
              "      <th>mean</th>\n",
              "      <th>std</th>\n",
              "      <th>min</th>\n",
              "      <th>25%</th>\n",
              "      <th>50%</th>\n",
              "      <th>75%</th>\n",
              "      <th>max</th>\n",
              "    </tr>\n",
              "  </thead>\n",
              "  <tbody>\n",
              "    <tr>\n",
              "      <th>quality_score</th>\n",
              "      <td>93.0</td>\n",
              "      <td>8.396129</td>\n",
              "      <td>3.081894</td>\n",
              "      <td>6.98</td>\n",
              "      <td>7.3200</td>\n",
              "      <td>7.650</td>\n",
              "      <td>7.9500</td>\n",
              "      <td>20.00</td>\n",
              "    </tr>\n",
              "    <tr>\n",
              "      <th>sugar</th>\n",
              "      <td>90.0</td>\n",
              "      <td>1.651556</td>\n",
              "      <td>0.424693</td>\n",
              "      <td>0.73</td>\n",
              "      <td>1.4000</td>\n",
              "      <td>1.555</td>\n",
              "      <td>1.8875</td>\n",
              "      <td>2.94</td>\n",
              "    </tr>\n",
              "    <tr>\n",
              "      <th>total_sulfur_dioxide</th>\n",
              "      <td>87.0</td>\n",
              "      <td>86.051724</td>\n",
              "      <td>8.747769</td>\n",
              "      <td>66.50</td>\n",
              "      <td>80.1000</td>\n",
              "      <td>85.000</td>\n",
              "      <td>90.9500</td>\n",
              "      <td>112.20</td>\n",
              "    </tr>\n",
              "    <tr>\n",
              "      <th>density</th>\n",
              "      <td>94.0</td>\n",
              "      <td>0.833723</td>\n",
              "      <td>0.266849</td>\n",
              "      <td>0.27</td>\n",
              "      <td>0.6225</td>\n",
              "      <td>0.860</td>\n",
              "      <td>1.0450</td>\n",
              "      <td>1.32</td>\n",
              "    </tr>\n",
              "    <tr>\n",
              "      <th>ph</th>\n",
              "      <td>91.0</td>\n",
              "      <td>3.269890</td>\n",
              "      <td>1.038702</td>\n",
              "      <td>0.00</td>\n",
              "      <td>2.9150</td>\n",
              "      <td>3.440</td>\n",
              "      <td>4.0050</td>\n",
              "      <td>4.48</td>\n",
              "    </tr>\n",
              "    <tr>\n",
              "      <th>alcohol</th>\n",
              "      <td>92.0</td>\n",
              "      <td>5.057391</td>\n",
              "      <td>0.590782</td>\n",
              "      <td>4.03</td>\n",
              "      <td>4.5550</td>\n",
              "      <td>5.075</td>\n",
              "      <td>5.5750</td>\n",
              "      <td>5.99</td>\n",
              "    </tr>\n",
              "  </tbody>\n",
              "</table>\n",
              "</div>\n",
              "      <button class=\"colab-df-convert\" onclick=\"convertToInteractive('df-42d919fb-5c32-42f0-92b5-56414596c9b6')\"\n",
              "              title=\"Convert this dataframe to an interactive table.\"\n",
              "              style=\"display:none;\">\n",
              "        \n",
              "  <svg xmlns=\"http://www.w3.org/2000/svg\" height=\"24px\"viewBox=\"0 0 24 24\"\n",
              "       width=\"24px\">\n",
              "    <path d=\"M0 0h24v24H0V0z\" fill=\"none\"/>\n",
              "    <path d=\"M18.56 5.44l.94 2.06.94-2.06 2.06-.94-2.06-.94-.94-2.06-.94 2.06-2.06.94zm-11 1L8.5 8.5l.94-2.06 2.06-.94-2.06-.94L8.5 2.5l-.94 2.06-2.06.94zm10 10l.94 2.06.94-2.06 2.06-.94-2.06-.94-.94-2.06-.94 2.06-2.06.94z\"/><path d=\"M17.41 7.96l-1.37-1.37c-.4-.4-.92-.59-1.43-.59-.52 0-1.04.2-1.43.59L10.3 9.45l-7.72 7.72c-.78.78-.78 2.05 0 2.83L4 21.41c.39.39.9.59 1.41.59.51 0 1.02-.2 1.41-.59l7.78-7.78 2.81-2.81c.8-.78.8-2.07 0-2.86zM5.41 20L4 18.59l7.72-7.72 1.47 1.35L5.41 20z\"/>\n",
              "  </svg>\n",
              "      </button>\n",
              "      \n",
              "  <style>\n",
              "    .colab-df-container {\n",
              "      display:flex;\n",
              "      flex-wrap:wrap;\n",
              "      gap: 12px;\n",
              "    }\n",
              "\n",
              "    .colab-df-convert {\n",
              "      background-color: #E8F0FE;\n",
              "      border: none;\n",
              "      border-radius: 50%;\n",
              "      cursor: pointer;\n",
              "      display: none;\n",
              "      fill: #1967D2;\n",
              "      height: 32px;\n",
              "      padding: 0 0 0 0;\n",
              "      width: 32px;\n",
              "    }\n",
              "\n",
              "    .colab-df-convert:hover {\n",
              "      background-color: #E2EBFA;\n",
              "      box-shadow: 0px 1px 2px rgba(60, 64, 67, 0.3), 0px 1px 3px 1px rgba(60, 64, 67, 0.15);\n",
              "      fill: #174EA6;\n",
              "    }\n",
              "\n",
              "    [theme=dark] .colab-df-convert {\n",
              "      background-color: #3B4455;\n",
              "      fill: #D2E3FC;\n",
              "    }\n",
              "\n",
              "    [theme=dark] .colab-df-convert:hover {\n",
              "      background-color: #434B5C;\n",
              "      box-shadow: 0px 1px 3px 1px rgba(0, 0, 0, 0.15);\n",
              "      filter: drop-shadow(0px 1px 2px rgba(0, 0, 0, 0.3));\n",
              "      fill: #FFFFFF;\n",
              "    }\n",
              "  </style>\n",
              "\n",
              "      <script>\n",
              "        const buttonEl =\n",
              "          document.querySelector('#df-42d919fb-5c32-42f0-92b5-56414596c9b6 button.colab-df-convert');\n",
              "        buttonEl.style.display =\n",
              "          google.colab.kernel.accessAllowed ? 'block' : 'none';\n",
              "\n",
              "        async function convertToInteractive(key) {\n",
              "          const element = document.querySelector('#df-42d919fb-5c32-42f0-92b5-56414596c9b6');\n",
              "          const dataTable =\n",
              "            await google.colab.kernel.invokeFunction('convertToInteractive',\n",
              "                                                     [key], {});\n",
              "          if (!dataTable) return;\n",
              "\n",
              "          const docLinkHtml = 'Like what you see? Visit the ' +\n",
              "            '<a target=\"_blank\" href=https://colab.research.google.com/notebooks/data_table.ipynb>data table notebook</a>'\n",
              "            + ' to learn more about interactive tables.';\n",
              "          element.innerHTML = '';\n",
              "          dataTable['output_type'] = 'display_data';\n",
              "          await google.colab.output.renderOutput(dataTable, element);\n",
              "          const docLink = document.createElement('div');\n",
              "          docLink.innerHTML = docLinkHtml;\n",
              "          element.appendChild(docLink);\n",
              "        }\n",
              "      </script>\n",
              "    </div>\n",
              "  </div>\n",
              "  "
            ]
          },
          "metadata": {},
          "execution_count": 7
        }
      ]
    },
    {
      "cell_type": "code",
      "source": [
        "wine.isnull().sum().sum()\n",
        "\n",
        "# Total number of null values in data set are found"
      ],
      "metadata": {
        "colab": {
          "base_uri": "https://localhost:8080/"
        },
        "id": "E_5vFt4JFI5_",
        "outputId": "00d3c717-50c8-4954-ff8e-047273f5511d"
      },
      "execution_count": null,
      "outputs": [
        {
          "output_type": "execute_result",
          "data": {
            "text/plain": [
              "110"
            ]
          },
          "metadata": {},
          "execution_count": 8
        }
      ]
    },
    {
      "cell_type": "code",
      "source": [
        "wine1 = pd.DataFrame(wine.isnull().sum())\n",
        "wine1.columns =[\"Missing Number\"]\n",
        "wine1[\"Missing Percentage\"] = (wine1[\"Missing Number\"]*100)/wine.shape[0]\n",
        "wine1\n",
        "\n",
        "# Create a table which contains how much null data values in all data set"
      ],
      "metadata": {
        "colab": {
          "base_uri": "https://localhost:8080/",
          "height": 394
        },
        "id": "R-LuG9-aFXAa",
        "outputId": "901e84e0-fc9e-4754-e4e3-2215133407f7"
      },
      "execution_count": null,
      "outputs": [
        {
          "output_type": "execute_result",
          "data": {
            "text/plain": [
              "                      Missing Number  Missing Percentage\n",
              "quality_score                      7                 7.0\n",
              "acidity                           10                10.0\n",
              "sugar                             10                10.0\n",
              "cholorides                        18                18.0\n",
              "total_sulfur_dioxide              13                13.0\n",
              "density                            6                 6.0\n",
              "ph                                 9                 9.0\n",
              "alcohol                            8                 8.0\n",
              "wine_type                          7                 7.0\n",
              "color                              7                 7.0\n",
              "grape                             15                15.0"
            ],
            "text/html": [
              "\n",
              "  <div id=\"df-0578ccb4-0dbd-419a-88da-4e73671ec9ad\">\n",
              "    <div class=\"colab-df-container\">\n",
              "      <div>\n",
              "<style scoped>\n",
              "    .dataframe tbody tr th:only-of-type {\n",
              "        vertical-align: middle;\n",
              "    }\n",
              "\n",
              "    .dataframe tbody tr th {\n",
              "        vertical-align: top;\n",
              "    }\n",
              "\n",
              "    .dataframe thead th {\n",
              "        text-align: right;\n",
              "    }\n",
              "</style>\n",
              "<table border=\"1\" class=\"dataframe\">\n",
              "  <thead>\n",
              "    <tr style=\"text-align: right;\">\n",
              "      <th></th>\n",
              "      <th>Missing Number</th>\n",
              "      <th>Missing Percentage</th>\n",
              "    </tr>\n",
              "  </thead>\n",
              "  <tbody>\n",
              "    <tr>\n",
              "      <th>quality_score</th>\n",
              "      <td>7</td>\n",
              "      <td>7.0</td>\n",
              "    </tr>\n",
              "    <tr>\n",
              "      <th>acidity</th>\n",
              "      <td>10</td>\n",
              "      <td>10.0</td>\n",
              "    </tr>\n",
              "    <tr>\n",
              "      <th>sugar</th>\n",
              "      <td>10</td>\n",
              "      <td>10.0</td>\n",
              "    </tr>\n",
              "    <tr>\n",
              "      <th>cholorides</th>\n",
              "      <td>18</td>\n",
              "      <td>18.0</td>\n",
              "    </tr>\n",
              "    <tr>\n",
              "      <th>total_sulfur_dioxide</th>\n",
              "      <td>13</td>\n",
              "      <td>13.0</td>\n",
              "    </tr>\n",
              "    <tr>\n",
              "      <th>density</th>\n",
              "      <td>6</td>\n",
              "      <td>6.0</td>\n",
              "    </tr>\n",
              "    <tr>\n",
              "      <th>ph</th>\n",
              "      <td>9</td>\n",
              "      <td>9.0</td>\n",
              "    </tr>\n",
              "    <tr>\n",
              "      <th>alcohol</th>\n",
              "      <td>8</td>\n",
              "      <td>8.0</td>\n",
              "    </tr>\n",
              "    <tr>\n",
              "      <th>wine_type</th>\n",
              "      <td>7</td>\n",
              "      <td>7.0</td>\n",
              "    </tr>\n",
              "    <tr>\n",
              "      <th>color</th>\n",
              "      <td>7</td>\n",
              "      <td>7.0</td>\n",
              "    </tr>\n",
              "    <tr>\n",
              "      <th>grape</th>\n",
              "      <td>15</td>\n",
              "      <td>15.0</td>\n",
              "    </tr>\n",
              "  </tbody>\n",
              "</table>\n",
              "</div>\n",
              "      <button class=\"colab-df-convert\" onclick=\"convertToInteractive('df-0578ccb4-0dbd-419a-88da-4e73671ec9ad')\"\n",
              "              title=\"Convert this dataframe to an interactive table.\"\n",
              "              style=\"display:none;\">\n",
              "        \n",
              "  <svg xmlns=\"http://www.w3.org/2000/svg\" height=\"24px\"viewBox=\"0 0 24 24\"\n",
              "       width=\"24px\">\n",
              "    <path d=\"M0 0h24v24H0V0z\" fill=\"none\"/>\n",
              "    <path d=\"M18.56 5.44l.94 2.06.94-2.06 2.06-.94-2.06-.94-.94-2.06-.94 2.06-2.06.94zm-11 1L8.5 8.5l.94-2.06 2.06-.94-2.06-.94L8.5 2.5l-.94 2.06-2.06.94zm10 10l.94 2.06.94-2.06 2.06-.94-2.06-.94-.94-2.06-.94 2.06-2.06.94z\"/><path d=\"M17.41 7.96l-1.37-1.37c-.4-.4-.92-.59-1.43-.59-.52 0-1.04.2-1.43.59L10.3 9.45l-7.72 7.72c-.78.78-.78 2.05 0 2.83L4 21.41c.39.39.9.59 1.41.59.51 0 1.02-.2 1.41-.59l7.78-7.78 2.81-2.81c.8-.78.8-2.07 0-2.86zM5.41 20L4 18.59l7.72-7.72 1.47 1.35L5.41 20z\"/>\n",
              "  </svg>\n",
              "      </button>\n",
              "      \n",
              "  <style>\n",
              "    .colab-df-container {\n",
              "      display:flex;\n",
              "      flex-wrap:wrap;\n",
              "      gap: 12px;\n",
              "    }\n",
              "\n",
              "    .colab-df-convert {\n",
              "      background-color: #E8F0FE;\n",
              "      border: none;\n",
              "      border-radius: 50%;\n",
              "      cursor: pointer;\n",
              "      display: none;\n",
              "      fill: #1967D2;\n",
              "      height: 32px;\n",
              "      padding: 0 0 0 0;\n",
              "      width: 32px;\n",
              "    }\n",
              "\n",
              "    .colab-df-convert:hover {\n",
              "      background-color: #E2EBFA;\n",
              "      box-shadow: 0px 1px 2px rgba(60, 64, 67, 0.3), 0px 1px 3px 1px rgba(60, 64, 67, 0.15);\n",
              "      fill: #174EA6;\n",
              "    }\n",
              "\n",
              "    [theme=dark] .colab-df-convert {\n",
              "      background-color: #3B4455;\n",
              "      fill: #D2E3FC;\n",
              "    }\n",
              "\n",
              "    [theme=dark] .colab-df-convert:hover {\n",
              "      background-color: #434B5C;\n",
              "      box-shadow: 0px 1px 3px 1px rgba(0, 0, 0, 0.15);\n",
              "      filter: drop-shadow(0px 1px 2px rgba(0, 0, 0, 0.3));\n",
              "      fill: #FFFFFF;\n",
              "    }\n",
              "  </style>\n",
              "\n",
              "      <script>\n",
              "        const buttonEl =\n",
              "          document.querySelector('#df-0578ccb4-0dbd-419a-88da-4e73671ec9ad button.colab-df-convert');\n",
              "        buttonEl.style.display =\n",
              "          google.colab.kernel.accessAllowed ? 'block' : 'none';\n",
              "\n",
              "        async function convertToInteractive(key) {\n",
              "          const element = document.querySelector('#df-0578ccb4-0dbd-419a-88da-4e73671ec9ad');\n",
              "          const dataTable =\n",
              "            await google.colab.kernel.invokeFunction('convertToInteractive',\n",
              "                                                     [key], {});\n",
              "          if (!dataTable) return;\n",
              "\n",
              "          const docLinkHtml = 'Like what you see? Visit the ' +\n",
              "            '<a target=\"_blank\" href=https://colab.research.google.com/notebooks/data_table.ipynb>data table notebook</a>'\n",
              "            + ' to learn more about interactive tables.';\n",
              "          element.innerHTML = '';\n",
              "          dataTable['output_type'] = 'display_data';\n",
              "          await google.colab.output.renderOutput(dataTable, element);\n",
              "          const docLink = document.createElement('div');\n",
              "          docLink.innerHTML = docLinkHtml;\n",
              "          element.appendChild(docLink);\n",
              "        }\n",
              "      </script>\n",
              "    </div>\n",
              "  </div>\n",
              "  "
            ]
          },
          "metadata": {},
          "execution_count": 9
        }
      ]
    },
    {
      "cell_type": "code",
      "source": [
        "meanq = wine['quality_score'].mean()\n",
        "means = wine['sugar'].mean()\n",
        "meansd = wine['total_sulfur_dioxide'].mean()\n",
        "meand = wine['density'].mean()\n",
        "meanp = wine['ph'].mean()\n",
        "meana = wine['alcohol'].mean()\n",
        "\n",
        "# Calculate all the numerical data's means, and assign a new variables for each of them, do this processes in order to change empty and meaningless values"
      ],
      "metadata": {
        "id": "-JfvUmka1NtO"
      },
      "execution_count": null,
      "outputs": []
    },
    {
      "cell_type": "code",
      "source": [
        "wine['ph'].loc[wine['ph']==0] = meanp\n",
        "wine['ph'].value_counts()\n",
        "# First, as we changed the irrevelant data value to zero, we changed this value to our mean value of pH.  "
      ],
      "metadata": {
        "colab": {
          "base_uri": "https://localhost:8080/"
        },
        "id": "-pOa2Qdc1Oda",
        "outputId": "323c2f5e-18c1-496e-fd36-decbf291407d"
      },
      "execution_count": null,
      "outputs": [
        {
          "output_type": "stream",
          "name": "stderr",
          "text": [
            "/usr/local/lib/python3.8/dist-packages/pandas/core/indexing.py:1732: SettingWithCopyWarning: \n",
            "A value is trying to be set on a copy of a slice from a DataFrame\n",
            "\n",
            "See the caveats in the documentation: https://pandas.pydata.org/pandas-docs/stable/user_guide/indexing.html#returning-a-view-versus-a-copy\n",
            "  self._setitem_single_block(indexer, value, name)\n"
          ]
        },
        {
          "output_type": "execute_result",
          "data": {
            "text/plain": [
              "3.26989    6\n",
              "2.82000    3\n",
              "4.12000    3\n",
              "4.35000    3\n",
              "3.84000    2\n",
              "          ..\n",
              "2.52000    1\n",
              "3.79000    1\n",
              "3.77000    1\n",
              "2.94000    1\n",
              "3.33000    1\n",
              "Name: ph, Length: 69, dtype: int64"
            ]
          },
          "metadata": {},
          "execution_count": 11
        }
      ]
    },
    {
      "cell_type": "code",
      "source": [
        "wine['quality_score'].fillna(meanq, inplace=True)\n",
        "wine['sugar'].fillna(means, inplace=True)\n",
        "wine['total_sulfur_dioxide'].fillna(meansd, inplace=True)\n",
        "wine['density'].fillna(meand, inplace=True)\n",
        "wine['ph'].fillna(meanp, inplace=True)\n",
        "wine['alcohol'].fillna(meana, inplace=True)\n",
        "\n",
        "# All numerical null values are changed with their mean values"
      ],
      "metadata": {
        "id": "IG3DMvf01QOK"
      },
      "execution_count": null,
      "outputs": []
    },
    {
      "cell_type": "code",
      "source": [
        "wine.isnull().sum().sum()\n",
        "\n",
        "# To check the data to learn the operations we did before were correct"
      ],
      "metadata": {
        "colab": {
          "base_uri": "https://localhost:8080/"
        },
        "id": "0CP-fcV62-XK",
        "outputId": "850cd3f4-a6b3-41ed-ee80-47567eebf490"
      },
      "execution_count": null,
      "outputs": [
        {
          "output_type": "execute_result",
          "data": {
            "text/plain": [
              "57"
            ]
          },
          "metadata": {},
          "execution_count": 13
        }
      ]
    },
    {
      "cell_type": "code",
      "source": [
        "wine.duplicated().sum()\n",
        "\n",
        "# Count all the duplicated data values"
      ],
      "metadata": {
        "colab": {
          "base_uri": "https://localhost:8080/"
        },
        "id": "7Jzg7Qas1SQV",
        "outputId": "dde20005-04bc-48d3-dbdc-1a1bf452067d"
      },
      "execution_count": null,
      "outputs": [
        {
          "output_type": "execute_result",
          "data": {
            "text/plain": [
              "0"
            ]
          },
          "metadata": {},
          "execution_count": 14
        }
      ]
    },
    {
      "cell_type": "code",
      "source": [
        "for i in wine.select_dtypes(include='object').columns:\n",
        "  print(wine[i].value_counts())\n",
        "\n",
        "# We have identified the data for categorical variables that may cause misinterpretation, and data that actually means the same thing but written differently."
      ],
      "metadata": {
        "colab": {
          "base_uri": "https://localhost:8080/"
        },
        "id": "Qu_25X3o1Ub5",
        "outputId": "0fa903bc-2e04-4e3e-ed4e-18233c421ed1"
      },
      "execution_count": null,
      "outputs": [
        {
          "output_type": "stream",
          "name": "stdout",
          "text": [
            "Not Acidic    46\n",
            "Acidic        44\n",
            "Name: acidity, dtype: int64\n",
            "More Salty     36\n",
            "Less Salty     21\n",
            "More  SAlty    13\n",
            "Less  SAlty    12\n",
            "Name: cholorides, dtype: int64\n",
            "Syrah        50\n",
            "Öküzgözü     27\n",
            "Karasakız    16\n",
            "Name: wine_type, dtype: int64\n",
            "red      56\n",
            "white    28\n",
            "rose      9\n",
            "Name: color, dtype: int64\n",
            "chardonnay    26\n",
            "semillion     22\n",
            "riesling      18\n",
            "semilliON     11\n",
            "chardONnay     8\n",
            "Name: grape, dtype: int64\n"
          ]
        }
      ]
    },
    {
      "cell_type": "code",
      "source": [
        "wine['cholorides'].loc[wine['cholorides']=='More SAlty']= 'More Salty'\n",
        "wine['cholorides'].loc[wine['cholorides']=='Less SAlty']= 'Less Salty'\n",
        "wine['cholorides'].loc[wine['cholorides']=='More  SAlty']= 'More Salty'\n",
        "wine['cholorides'].loc[wine['cholorides']=='Less  SAlty']= 'Less Salty'\n",
        "wine['grape'].loc[wine['grape']=='semilliON']= 'semillion'\n",
        "wine['grape'].loc[wine['grape']=='chardONnay']= 'chardonnay'\n",
        "\n",
        "# As we already done before this step for identify, we adjusted the categorical data values correctly."
      ],
      "metadata": {
        "id": "TpNPTXe_1WYW"
      },
      "execution_count": null,
      "outputs": []
    },
    {
      "cell_type": "code",
      "source": [
        "mode_acidity = wine['acidity'].value_counts().idxmax()\n",
        "wine['acidity'] = wine['acidity'].fillna(mode_acidity)\n",
        "mode_cholorides = wine['cholorides'].value_counts().idxmax()\n",
        "wine['cholorides'] = wine['cholorides'].fillna(mode_cholorides)\n",
        "mode_wine_type = wine['wine_type'].value_counts().idxmax()\n",
        "wine['wine_type'] = wine['wine_type'].fillna(mode_wine_type)\n",
        "mode_color = wine['color'].value_counts().idxmax()\n",
        "wine['color'] = wine['color'].fillna(mode_color)\n",
        "mode_grape = wine['grape'].value_counts().idxmax()\n",
        "wine['grape'] = wine['grape'].fillna(mode_grape)\n",
        "\n",
        "# We found the mode of the categorical variables, and then we fill the null values with their modes."
      ],
      "metadata": {
        "id": "Lwk4UmqI1bqH"
      },
      "execution_count": null,
      "outputs": []
    },
    {
      "cell_type": "code",
      "source": [
        "wine.isnull().sum().sum()\n",
        "\n",
        "# We checked the null values."
      ],
      "metadata": {
        "colab": {
          "base_uri": "https://localhost:8080/"
        },
        "id": "waaquMyX4JeU",
        "outputId": "1face6fb-1a32-4c2d-caeb-a8cb6b7b4a07"
      },
      "execution_count": null,
      "outputs": [
        {
          "output_type": "execute_result",
          "data": {
            "text/plain": [
              "0"
            ]
          },
          "metadata": {},
          "execution_count": 18
        }
      ]
    },
    {
      "cell_type": "code",
      "source": [
        "wine.columns = wine.columns.str.title()\n",
        "wine.columns\n",
        "\n",
        "# We fixed the capitilization problem for column names. We use title function to capitilaze first letter."
      ],
      "metadata": {
        "colab": {
          "base_uri": "https://localhost:8080/"
        },
        "id": "SI2JPZWd1ha1",
        "outputId": "4412f862-da42-4af6-fd0c-c0b0d3f41bb5"
      },
      "execution_count": null,
      "outputs": [
        {
          "output_type": "execute_result",
          "data": {
            "text/plain": [
              "Index(['Quality_Score', 'Acidity', 'Sugar', 'Cholorides',\n",
              "       'Total_Sulfur_Dioxide', 'Density', 'Ph', 'Alcohol', 'Wine_Type',\n",
              "       'Color', 'Grape'],\n",
              "      dtype='object')"
            ]
          },
          "metadata": {},
          "execution_count": 19
        }
      ]
    },
    {
      "cell_type": "code",
      "source": [
        "wine = wine.rename({'Ph':'pH'},axis='columns')\n",
        "wine.columns\n",
        "\n",
        "# We fixed the PH column name to pH. "
      ],
      "metadata": {
        "colab": {
          "base_uri": "https://localhost:8080/"
        },
        "id": "kw9fCSzf1jmv",
        "outputId": "0c82a3f8-d247-4254-d9a9-4c6c35be0752"
      },
      "execution_count": null,
      "outputs": [
        {
          "output_type": "execute_result",
          "data": {
            "text/plain": [
              "Index(['Quality_Score', 'Acidity', 'Sugar', 'Cholorides',\n",
              "       'Total_Sulfur_Dioxide', 'Density', 'pH', 'Alcohol', 'Wine_Type',\n",
              "       'Color', 'Grape'],\n",
              "      dtype='object')"
            ]
          },
          "metadata": {},
          "execution_count": 20
        }
      ]
    },
    {
      "cell_type": "code",
      "source": [
        "wine['Grape'] = wine['Grape'].str.title()\n",
        "wine['Grape'].value_counts()\n",
        "\n",
        "# Data values of the Grape column, we capitiliaze the first letters of the data values, and we count all types in the Grape column."
      ],
      "metadata": {
        "colab": {
          "base_uri": "https://localhost:8080/"
        },
        "id": "7D6dvuMh5Xlx",
        "outputId": "c7a2162f-4746-44eb-f86e-12e4a5b6e3a7"
      },
      "execution_count": null,
      "outputs": [
        {
          "output_type": "execute_result",
          "data": {
            "text/plain": [
              "Chardonnay    49\n",
              "Semillion     33\n",
              "Riesling      18\n",
              "Name: Grape, dtype: int64"
            ]
          },
          "metadata": {},
          "execution_count": 21
        }
      ]
    },
    {
      "cell_type": "code",
      "source": [
        "wine['Color'] = wine['Color'].str.title()\n",
        "wine['Color'].value_counts()\n",
        "\n",
        "# Data values of the Color column, we capitiliaze the first letters of the data values, and we count all types in the Color column."
      ],
      "metadata": {
        "colab": {
          "base_uri": "https://localhost:8080/"
        },
        "id": "KZzGms3W6K7V",
        "outputId": "d29a386a-6275-4808-ca6e-52837465eb91"
      },
      "execution_count": null,
      "outputs": [
        {
          "output_type": "execute_result",
          "data": {
            "text/plain": [
              "Red      63\n",
              "White    28\n",
              "Rose      9\n",
              "Name: Color, dtype: int64"
            ]
          },
          "metadata": {},
          "execution_count": 22
        }
      ]
    },
    {
      "cell_type": "code",
      "source": [
        "wine.to_excel('wine_datason.xlsx')\n",
        "\n",
        "# We saved the fixed data set to excel file. "
      ],
      "metadata": {
        "id": "3-Kfb10E4T4s"
      },
      "execution_count": null,
      "outputs": []
    }
  ]
}